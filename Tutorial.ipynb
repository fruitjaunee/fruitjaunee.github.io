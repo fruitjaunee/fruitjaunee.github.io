{
 "cells": [
  {
   "cell_type": "markdown",
   "metadata": {},
   "source": [
    "# Welcome to this tutorial ! \n",
    "\n",
    "### With this tutorial you will be able to use the brutal force alignment algorithm without any trouble!\n",
    "#### This algorithm contains two functions.\n",
    "\n",
    "## Let's go!\n",
    "\n",
    "\n",
    "The first function is called \"enumerate_all_possibles_alignements\" and allows the user to __compare two sequences__ and __choose the reward match__ (when two letters are the same), the __cost mismatch__ (when two letters are different) and the __cost gap__ (when a letter is aligned with a gap).\n",
    "\n",
    "The function then returns a __list of all the possible alignments__ of the two sequences and their associated score."
   ]
  },
  {
   "cell_type": "code",
   "execution_count": 2,
   "metadata": {},
   "outputs": [],
   "source": [
    "def enumerate_all_possibles_alignements (seq1, seq2, reward_match, cost_mismatch, cost_gap):\n",
    "\t\n",
    "\tif seq1[0] == seq2[0]:\n",
    "\t\tn=reward_match\n",
    "\telse:\n",
    "\t\tn=cost_mismatch\n",
    "\t\n",
    "\tliste_ali=[(1,seq1[0],seq2[0],1,1,n),(2,seq1[0],\"-\",1,0,cost_gap),(3,\"-\",seq2[0],0,1,cost_gap)]\n",
    "\tnoeud_courant=[]\n",
    "\tliste_att=[]\n",
    "\n",
    "\t\n",
    "\t\t\n",
    "\twhile len(liste_ali) != 0:\n",
    "\t\n",
    "\t\tnoeud_courant=liste_ali.pop()\n",
    "\t\t\n",
    "\t\t\n",
    "\t\top=noeud_courant[0]\n",
    "\t\tch1=noeud_courant[1]\n",
    "\t\tch2=noeud_courant[2]\n",
    "\t\tpos1=noeud_courant[3]\n",
    "\t\tpos2=noeud_courant[4]\n",
    "\t\tscore=noeud_courant[5]\n",
    "\t\t\n",
    "\t\t\n",
    "\t\tif pos1==len(seq1) and pos2==len(seq2):\n",
    "\t\t#on ne peut plus creer de fils, donc c'est fini \n",
    "\t\t\tliste_att.append(noeud_courant)\n",
    "\t\t\n",
    "\t\t\n",
    "\t\telif pos1< len(seq1) and pos2< len(seq2):\n",
    "\t\t#on peut creer les trois fils car les trois options sont possibles\n",
    "\t\t\tif seq1[pos1] == seq2[pos2]:\n",
    "\t\t\t\tn= score +reward_match\n",
    "\t\t\telse:\n",
    "\t\t\t\tn= score +cost_mismatch\n",
    "\t\t\n",
    "\t\t\n",
    "\t\t\tfils1=(1,ch1+seq1[pos1],ch2+seq2[pos2],pos1+1,pos2+1,n)\n",
    "\t\t\tfils2=(2,ch1+seq1[pos1],ch2+\"-\",pos1+1,pos2,score+cost_gap)\n",
    "\t\t\tfils3=(3,ch1+\"-\",ch2+seq2[pos2],pos1,pos2+1,score+cost_gap)\n",
    "\t\t\n",
    "\t\t\n",
    "\t\t\tliste_ali.append(fils1)\n",
    "\t\t\tliste_ali.append(fils2)\n",
    "\t\t\tliste_ali.append(fils3)\n",
    "\t\t\n",
    "\t\t\n",
    "\t\telif pos1==len(seq1) and pos2<len(seq2):\n",
    "\t\t#on ne peut creer que le fils 3\n",
    "\t\t\n",
    "\t\t\tfils3=(3,ch1+\"-\",ch2+seq2[pos2],pos1,pos2+1,score+cost_gap)\n",
    "\t\t\tliste_ali.append(fils3)\n",
    "\t\t\t\n",
    "\t\telif pos1<len(seq1) and pos2==len(seq2):\n",
    "\t\t#on ne peut creer que le fils 2\n",
    "\t\t\n",
    "\t\t\tfils2=(2,ch1+seq1[pos1],ch2+\"-\",pos1+1,pos2,score+cost_gap)\n",
    "\t\t\tliste_ali.append(fils2)\n",
    "\t\n",
    "\t\n",
    "\tindex=[1,2,5]\n",
    "\tfinal_list =[]\n",
    "\tfor i in liste_att:\n",
    "\t\tali=[]\n",
    "\t\tfor j in index:\n",
    "\t\t\tali.append(i[j])\n",
    "\t\tfinal_list.append(ali)\n",
    "\t\t\t\n",
    "\treturn (final_list)"
   ]
  },
  {
   "cell_type": "markdown",
   "metadata": {},
   "source": [
    "This is an example of how to use this funciton:"
   ]
  },
  {
   "cell_type": "code",
   "execution_count": 3,
   "metadata": {},
   "outputs": [
    {
     "data": {
      "text/plain": [
       "[['---AAC', 'ACG---', -6],\n",
       " ['--A-AC', 'AC-G--', -6],\n",
       " ['--AA-C', 'AC--G-', -6],\n",
       " ['--AAC-', 'AC---G', -6],\n",
       " ['--AAC', 'AC--G', -5],\n",
       " ['--AAC', 'AC-G-', -5],\n",
       " ['--AAC', 'ACG--', -5],\n",
       " ['-A--AC', 'A-CG--', -6],\n",
       " ['-A-A-C', 'A-C-G-', -6],\n",
       " ['-A-AC-', 'A-C--G', -6],\n",
       " ['-A-AC', 'A-C-G', -5],\n",
       " ['-A-AC', 'A-CG-', -5],\n",
       " ['-AA--C', 'A--CG-', -6],\n",
       " ['-AA-C-', 'A--C-G', -6],\n",
       " ['-AA-C', 'A--CG', -5],\n",
       " ['-AAC--', 'A---CG', -6],\n",
       " ['-AAC-', 'A--CG', -3],\n",
       " ['-AA-C', 'A-CG-', -5],\n",
       " ['-AAC-', 'A-C-G', -5],\n",
       " ['-AAC', 'A-CG', -4],\n",
       " ['-A-AC', 'ACG--', -5],\n",
       " ['-AA-C', 'AC-G-', -5],\n",
       " ['-AAC-', 'AC--G', -5],\n",
       " ['-AAC', 'AC-G', -4],\n",
       " ['-AAC', 'ACG-', -4],\n",
       " ['A---AC', '-ACG--', -6],\n",
       " ['A--A-C', '-AC-G-', -6],\n",
       " ['A--AC-', '-AC--G', -6],\n",
       " ['A--AC', '-AC-G', -5],\n",
       " ['A--AC', '-ACG-', -5],\n",
       " ['A-A--C', '-A-CG-', -6],\n",
       " ['A-A-C-', '-A-C-G', -6],\n",
       " ['A-A-C', '-A-CG', -5],\n",
       " ['A-AC--', '-A--CG', -6],\n",
       " ['A-AC-', '-A-CG', -3],\n",
       " ['A-A-C', '-ACG-', -5],\n",
       " ['A-AC-', '-AC-G', -5],\n",
       " ['A-AC', '-ACG', -4],\n",
       " ['AA---C', '--ACG-', -6],\n",
       " ['AA--C-', '--AC-G', -6],\n",
       " ['AA--C', '--ACG', -5],\n",
       " ['AA-C--', '--A-CG', -6],\n",
       " ['AA-C-', '--ACG', -3],\n",
       " ['AAC---', '---ACG', -6],\n",
       " ['AAC--', '--ACG', -5],\n",
       " ['AA--C', '-ACG-', -3],\n",
       " ['AA-C-', '-AC-G', -3],\n",
       " ['AA-C', '-ACG', -2],\n",
       " ['AAC--', '-A-CG', -3],\n",
       " ['AAC-', '-ACG', 0],\n",
       " ['A--AC', 'ACG--', -3],\n",
       " ['A-A-C', 'AC-G-', -3],\n",
       " ['A-AC-', 'AC--G', -3],\n",
       " ['A-AC', 'AC-G', -2],\n",
       " ['A-AC', 'ACG-', -2],\n",
       " ['AA--C', 'A-CG-', -3],\n",
       " ['AA-C-', 'A-C-G', -3],\n",
       " ['AA-C', 'A-CG', -2],\n",
       " ['AAC--', 'A--CG', -3],\n",
       " ['AAC-', 'A-CG', 0],\n",
       " ['AA-C', 'ACG-', -2],\n",
       " ['AAC-', 'AC-G', -2],\n",
       " ['AAC', 'ACG', -1]]"
      ]
     },
     "execution_count": 3,
     "metadata": {},
     "output_type": "execute_result"
    }
   ],
   "source": [
    "enumerate_all_possibles_alignements(\"AAC\",\"ACG\",1,-1,-1)"
   ]
  },
  {
   "cell_type": "markdown",
   "metadata": {},
   "source": [
    "You can also compare two sequences of different length like this:"
   ]
  },
  {
   "cell_type": "code",
   "execution_count": 4,
   "metadata": {},
   "outputs": [
    {
     "data": {
      "text/plain": [
       "[['--AAC', 'AC---', -5],\n",
       " ['-A-AC', 'A-C--', -5],\n",
       " ['-AA-C', 'A--C-', -5],\n",
       " ['-AAC-', 'A---C', -5],\n",
       " ['-AAC', 'A--C', -2],\n",
       " ['-AAC', 'A-C-', -4],\n",
       " ['-AAC', 'AC--', -4],\n",
       " ['A--AC', '-AC--', -5],\n",
       " ['A-A-C', '-A-C-', -5],\n",
       " ['A-AC-', '-A--C', -5],\n",
       " ['A-AC', '-A-C', -2],\n",
       " ['A-AC', '-AC-', -4],\n",
       " ['AA--C', '--AC-', -5],\n",
       " ['AA-C-', '--A-C', -5],\n",
       " ['AA-C', '--AC', -2],\n",
       " ['AAC--', '---AC', -5],\n",
       " ['AAC-', '--AC', -4],\n",
       " ['AA-C', '-AC-', -2],\n",
       " ['AAC-', '-A-C', -2],\n",
       " ['AAC', '-AC', 1],\n",
       " ['A-AC', 'AC--', -2],\n",
       " ['AA-C', 'A-C-', -2],\n",
       " ['AAC-', 'A--C', -2],\n",
       " ['AAC', 'A-C', 1],\n",
       " ['AAC', 'AC-', -1]]"
      ]
     },
     "execution_count": 4,
     "metadata": {},
     "output_type": "execute_result"
    }
   ],
   "source": [
    "enumerate_all_possibles_alignements(\"AAC\",\"AC\",1,-1,-1)"
   ]
  },
  {
   "cell_type": "markdown",
   "metadata": {},
   "source": [
    "The second function is called \"ali_optimaux\" and allows the user to __find the optimal alignment between two sequences__. \n",
    "The function then returns a list containing only the alignments with the higher score."
   ]
  },
  {
   "cell_type": "code",
   "execution_count": 5,
   "metadata": {},
   "outputs": [],
   "source": [
    "def ali_optimaux(liste_att):\n",
    "\tliste_att=sorted(liste_att, key=lambda liste_att: liste_att[2])\n",
    "\ti=1\n",
    "\tp=-2\n",
    "\tliste_opti=[liste_att[-1]]\n",
    "\twhile i>0:\n",
    "\t\tif liste_att[-1][2] == liste_att[p][2]:\n",
    "\t\t\tliste_opti.append(liste_att[p])\n",
    "\t\t\tp=p-1\n",
    "\t\telse:\n",
    "\t\t\ti=-1\n",
    "\treturn liste_opti"
   ]
  },
  {
   "cell_type": "code",
   "execution_count": 7,
   "metadata": {},
   "outputs": [
    {
     "data": {
      "text/plain": [
       "[['AAC', 'AG-', 1], ['AAC', 'A-G', 1], ['AAC', '-AG', 1]]"
      ]
     },
     "execution_count": 7,
     "metadata": {},
     "output_type": "execute_result"
    }
   ],
   "source": [
    "ali_optimaux(enumerate_all_possibles_alignements(\"AAC\",\"AG\",3,-1,-1))"
   ]
  },
  {
   "cell_type": "code",
   "execution_count": 8,
   "metadata": {},
   "outputs": [
    {
     "data": {
      "text/plain": [
       "[['AATGTC', 'AGTTT-', 6], ['AATGTC', 'AGT-TT', 6]]"
      ]
     },
     "execution_count": 8,
     "metadata": {},
     "output_type": "execute_result"
    }
   ],
   "source": [
    "ali_optimaux(enumerate_all_possibles_alignements(\"AATGTC\",\"AGTTT\",3,-1,-1))"
   ]
  }
 ],
 "metadata": {
  "kernelspec": {
   "display_name": "Python 2.7",
   "language": "python",
   "name": "python_2.7"
  },
  "language_info": {
   "codemirror_mode": {
    "name": "ipython",
    "version": 2
   },
   "file_extension": ".py",
   "mimetype": "text/x-python",
   "name": "python",
   "nbconvert_exporter": "python",
   "pygments_lexer": "ipython2",
   "version": "2.7.14"
  }
 },
 "nbformat": 4,
 "nbformat_minor": 2
}
